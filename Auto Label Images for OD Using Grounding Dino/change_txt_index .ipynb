{
 "cells": [
  {
   "cell_type": "code",
   "execution_count": 2,
   "id": "cb358300-5637-4e64-84b9-4fd461e0558f",
   "metadata": {},
   "outputs": [],
   "source": [
    "import os\n",
    "\n",
    "# Define the mapping for conversion\n",
    "conversion_dict = {\n",
    "    '0': '14',\n",
    "    '1': '15',\n",
    "    '2': '16',\n",
    "    '3': '17',\n",
    "    '4': '18'\n",
    "}\n",
    "\n",
    "def convert_first_number(line):\n",
    "    if line and line[0] in conversion_dict:\n",
    "        return conversion_dict[line[0]] + line[1:]\n",
    "    return line\n",
    "\n",
    "def process_files_in_folder(folder_path):\n",
    "    # Iterate over all files in the folder\n",
    "    for filename in os.listdir(folder_path):\n",
    "        if filename.endswith('.txt'):\n",
    "            file_path = os.path.join(folder_path, filename)\n",
    "            \n",
    "            # Read the content of the file\n",
    "            with open(file_path, 'r') as file:\n",
    "                lines = file.readlines()\n",
    "            \n",
    "            # Process each line\n",
    "            processed_lines = [convert_first_number(line) for line in lines]\n",
    "            \n",
    "            # Write the processed content back to the file\n",
    "            with open(file_path, 'w') as file:\n",
    "                file.writelines(processed_lines)\n",
    "\n",
    "# Specify the folder path\n",
    "folder_path = r'C:\\Users\\Admin\\Downloads\\kenya_d_card\\train\\labels'\n",
    "\n",
    "# Process the files in the specified folder\n",
    "process_files_in_folder(folder_path)\n"
   ]
  },
  {
   "cell_type": "code",
   "execution_count": 1,
   "id": "867ded42-c9a9-4705-98eb-04f22af99632",
   "metadata": {},
   "outputs": [
    {
     "name": "stdout",
     "output_type": "stream",
     "text": [
      "Replaced phrases in 10.txt\n",
      "Replaced phrases in 14.txt\n",
      "Replaced phrases in 2.txt\n",
      "Replaced phrases in 3.txt\n",
      "Replaced phrases in 5.txt\n",
      "Replaced phrases in 8.txt\n",
      "Replaced phrases in 9.txt\n"
     ]
    }
   ],
   "source": [
    "import os\n",
    "import re\n",
    "\n",
    "# Define the mapping of phrases to numeric identifiers\n",
    "phrase_map = {\n",
    "    'person': '0',\n",
    "    'helmet': '1',\n",
    "    'shoes': '2',\n",
    "    'safety vest': '3',\n",
    "    'hand gloves': '4'\n",
    "}\n",
    "\n",
    "# Function to replace phrases in a single file\n",
    "def replace_phrases_in_file(file_path):\n",
    "    with open(file_path, 'r', encoding='utf-8') as file:\n",
    "        content = file.read()\n",
    "\n",
    "    # Iterate through each phrase in the map and replace it\n",
    "    for phrase, num in phrase_map.items():\n",
    "        content = re.sub(r'\\b{}\\b'.format(re.escape(phrase)), num, content)\n",
    "\n",
    "    # Write the modified content back to the file\n",
    "    with open(file_path, 'w', encoding='utf-8') as file:\n",
    "        file.write(content)\n",
    "\n",
    "# Function to process all text files in a directory\n",
    "def process_files_in_directory(directory):\n",
    "    for filename in os.listdir(directory):\n",
    "        if filename.endswith('.txt'):\n",
    "            file_path = os.path.join(directory, filename)\n",
    "            replace_phrases_in_file(file_path)\n",
    "            print(f'Replaced phrases in {filename}')\n",
    "\n",
    "# Replace phrases in all text files in the specified directory\n",
    "directory_path = r'C:\\Users\\Admin\\Downloads\\drive-download-20240916T100959Z-001\\labels' \n",
    "process_files_in_directory(directory_path)\n"
   ]
  },
  {
   "cell_type": "code",
   "execution_count": null,
   "id": "69462645-4bc9-4461-8a1b-e0432a27c2ff",
   "metadata": {},
   "outputs": [],
   "source": []
  }
 ],
 "metadata": {
  "kernelspec": {
   "display_name": "Python 3 (ipykernel)",
   "language": "python",
   "name": "python3"
  },
  "language_info": {
   "codemirror_mode": {
    "name": "ipython",
    "version": 3
   },
   "file_extension": ".py",
   "mimetype": "text/x-python",
   "name": "python",
   "nbconvert_exporter": "python",
   "pygments_lexer": "ipython3",
   "version": "3.8.19"
  }
 },
 "nbformat": 4,
 "nbformat_minor": 5
}
