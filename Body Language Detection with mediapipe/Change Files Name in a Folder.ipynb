{
 "cells": [
  {
   "cell_type": "code",
   "execution_count": 22,
   "id": "f6a8608b-7d9c-4de6-9c7d-1bd855b418a4",
   "metadata": {},
   "outputs": [
    {
     "name": "stdout",
     "output_type": "stream",
     "text": [
      "Files have been renamed successfully.\n"
     ]
    }
   ],
   "source": [
    "import os\n",
    "\n",
    "# Define the path to your folder\n",
    "folder_path = r'C:\\Users\\Admin\\Downloads\\videos\\img\\22'\n",
    "\n",
    "# List of common image extensions\n",
    "image_extensions = ['.jpg', '.jpeg', '.png', '.gif', '.bmp', '.tiff', '.txt']\n",
    "\n",
    "# Iterate through each file in the folder\n",
    "for filename in os.listdir(folder_path):\n",
    "    # Check if the file is an image\n",
    "    if any(filename.lower().endswith(ext) for ext in image_extensions):\n",
    "        # Define the new file name\n",
    "        new_filename = '22' + filename\n",
    "        \n",
    "        # Construct full file paths\n",
    "        old_file = os.path.join(folder_path, filename)\n",
    "        new_file = os.path.join(folder_path, new_filename)\n",
    "        \n",
    "        # Rename the file\n",
    "        os.rename(old_file, new_file)\n",
    "\n",
    "print(\"Files have been renamed successfully.\")\n"
   ]
  },
  {
   "cell_type": "code",
   "execution_count": null,
   "id": "723f8960-041a-4c7a-8032-59fdca7f0f26",
   "metadata": {},
   "outputs": [],
   "source": []
  }
 ],
 "metadata": {
  "kernelspec": {
   "display_name": "Python 3 (ipykernel)",
   "language": "python",
   "name": "python3"
  },
  "language_info": {
   "codemirror_mode": {
    "name": "ipython",
    "version": 3
   },
   "file_extension": ".py",
   "mimetype": "text/x-python",
   "name": "python",
   "nbconvert_exporter": "python",
   "pygments_lexer": "ipython3",
   "version": "3.8.19"
  }
 },
 "nbformat": 4,
 "nbformat_minor": 5
}
