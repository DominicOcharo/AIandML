{
 "cells": [
  {
   "cell_type": "markdown",
   "id": "4130db69-f29a-4450-a352-69ae7f6a67d0",
   "metadata": {},
   "source": [
    "## Video to Images"
   ]
  },
  {
   "cell_type": "code",
   "execution_count": 1,
   "id": "c3b6fea1-6af2-4b52-a3e4-f0606d3a6eb0",
   "metadata": {},
   "outputs": [
    {
     "name": "stdout",
     "output_type": "stream",
     "text": [
      "Processed istockphoto-1173557947-640_adpp_is.mp4 - extracted 17 frames\n",
      "Processed istockphoto-1216032103-640_adpp_is.mp4 - extracted 7 frames\n",
      "Processed istockphoto-1216037082-640_adpp_is.mp4 - extracted 10 frames\n",
      "Processed istockphoto-1218641575-640_adpp_is.mp4 - extracted 13 frames\n",
      "Processed istockphoto-1311816297-640_adpp_is.mp4 - extracted 15 frames\n",
      "Processed istockphoto-1399863962-640_adpp_is.mp4 - extracted 19 frames\n",
      "Processed istockphoto-1498947179-640_adpp_is.mp4 - extracted 8 frames\n",
      "Processed istockphoto-507594446-640_adpp_is.mp4 - extracted 7 frames\n"
     ]
    }
   ],
   "source": [
    "import os\n",
    "import cv2\n",
    "\n",
    "def extract_frames_from_videos(video_folder, output_folder, frame_rate=1):\n",
    "    # Ensure the output folder exists\n",
    "    os.makedirs(output_folder, exist_ok=True)\n",
    "    \n",
    "    # Get a list of all files in the video folder\n",
    "    video_files = [f for f in os.listdir(video_folder) if f.endswith('.mp4')]\n",
    "    \n",
    "    for video_file in video_files:\n",
    "        video_path = os.path.join(video_folder, video_file)\n",
    "        video_name = os.path.splitext(video_file)[0]\n",
    "        \n",
    "        # Create a subfolder for each video\n",
    "        video_output_folder = os.path.join(output_folder, video_name)\n",
    "        os.makedirs(video_output_folder, exist_ok=True)\n",
    "        \n",
    "        # Capture the video\n",
    "        cap = cv2.VideoCapture(video_path)\n",
    "        \n",
    "        frame_count = 0\n",
    "        success = True\n",
    "        \n",
    "        while success:\n",
    "            # Read a frame\n",
    "            success, frame = cap.read()\n",
    "            \n",
    "            if success and frame_count % frame_rate == 0:\n",
    "                # Save the frame as an image\n",
    "                frame_filename = os.path.join(video_output_folder, f\"frame_{frame_count}.jpg\")\n",
    "                cv2.imwrite(frame_filename, frame)\n",
    "            \n",
    "            frame_count += 1\n",
    "        \n",
    "        cap.release()\n",
    "        print(f\"Processed {video_file} - extracted {frame_count // frame_rate} frames\")\n",
    "        \n",
    "if __name__ == \"__main__\":\n",
    "    video_folder = r'C:\\Users\\Admin\\Downloads\\Body Language Detection with mediapipe\\vid'\n",
    "    output_folder = r'C:\\Users\\Admin\\Downloads\\Body Language Detection with mediapipe\\vid\\img'\n",
    "    frame_rate = 30  # Save one frame every 30 frames (i.e., roughly one per second for 30fps video)\n",
    "    \n",
    "    extract_frames_from_videos(video_folder, output_folder, frame_rate)\n"
   ]
  },
  {
   "cell_type": "markdown",
   "id": "a9c1153b-05ac-4c98-935d-9c945c832bd9",
   "metadata": {},
   "source": [
    "## change videos from .webm to .mp4"
   ]
  },
  {
   "cell_type": "code",
   "execution_count": 2,
   "id": "0d0c5c3a-5442-405d-9622-a147f2043a8a",
   "metadata": {},
   "outputs": [
    {
     "name": "stdout",
     "output_type": "stream",
     "text": [
      "Renamed: C:\\Users\\Admin\\Desktop\\desktop folders\\vids\\11.webm to C:\\Users\\Admin\\Desktop\\desktop folders\\vids\\11.mp4\n",
      "Renamed: C:\\Users\\Admin\\Desktop\\desktop folders\\vids\\22.webm to C:\\Users\\Admin\\Desktop\\desktop folders\\vids\\22.mp4\n",
      "Renamed: C:\\Users\\Admin\\Desktop\\desktop folders\\vids\\33.webm to C:\\Users\\Admin\\Desktop\\desktop folders\\vids\\33.mp4\n",
      "Renamed: C:\\Users\\Admin\\Desktop\\desktop folders\\vids\\333.webm to C:\\Users\\Admin\\Desktop\\desktop folders\\vids\\333.mp4\n",
      "Renamed: C:\\Users\\Admin\\Desktop\\desktop folders\\vids\\44.webm to C:\\Users\\Admin\\Desktop\\desktop folders\\vids\\44.mp4\n",
      "Renamed: C:\\Users\\Admin\\Desktop\\desktop folders\\vids\\444.webm to C:\\Users\\Admin\\Desktop\\desktop folders\\vids\\444.mp4\n",
      "Renamed: C:\\Users\\Admin\\Desktop\\desktop folders\\vids\\55.webm to C:\\Users\\Admin\\Desktop\\desktop folders\\vids\\55.mp4\n",
      "Renamed: C:\\Users\\Admin\\Desktop\\desktop folders\\vids\\555.webm to C:\\Users\\Admin\\Desktop\\desktop folders\\vids\\555.mp4\n",
      "Renamed: C:\\Users\\Admin\\Desktop\\desktop folders\\vids\\666.webm to C:\\Users\\Admin\\Desktop\\desktop folders\\vids\\666.mp4\n",
      "Renamed: C:\\Users\\Admin\\Desktop\\desktop folders\\vids\\777.webm to C:\\Users\\Admin\\Desktop\\desktop folders\\vids\\777.mp4\n",
      "Renamed: C:\\Users\\Admin\\Desktop\\desktop folders\\vids\\888.webm to C:\\Users\\Admin\\Desktop\\desktop folders\\vids\\888.mp4\n",
      "Renamed: C:\\Users\\Admin\\Desktop\\desktop folders\\vids\\999.webm to C:\\Users\\Admin\\Desktop\\desktop folders\\vids\\999.mp4\n"
     ]
    }
   ],
   "source": [
    "import os\n",
    "\n",
    "def rename_webm_to_mp4(folder_path):\n",
    "    # List all files in the given folder\n",
    "    for filename in os.listdir(folder_path):\n",
    "        # Check if the file has a .webm extension\n",
    "        if filename.endswith('.webm'):\n",
    "            # Create the new filename with a .mp4 extension\n",
    "            new_filename = filename[:-5] + '.mp4'  # Remove the .webm and add .mp4\n",
    "            # Construct the full file paths\n",
    "            old_file = os.path.join(folder_path, filename)\n",
    "            new_file = os.path.join(folder_path, new_filename)\n",
    "            # Rename the file\n",
    "            os.rename(old_file, new_file)\n",
    "            print(f'Renamed: {old_file} to {new_file}')\n",
    "\n",
    "# Replace 'your_folder_path' with the path to your folder containing the .webm files\n",
    "folder_path = r'C:\\Users\\Admin\\Desktop\\desktop folders\\vids'\n",
    "rename_webm_to_mp4(folder_path)\n"
   ]
  },
  {
   "cell_type": "code",
   "execution_count": null,
   "id": "b510bf6d-de40-4157-8d3b-278c14362f5d",
   "metadata": {},
   "outputs": [],
   "source": []
  }
 ],
 "metadata": {
  "kernelspec": {
   "display_name": "Python 3 (ipykernel)",
   "language": "python",
   "name": "python3"
  },
  "language_info": {
   "codemirror_mode": {
    "name": "ipython",
    "version": 3
   },
   "file_extension": ".py",
   "mimetype": "text/x-python",
   "name": "python",
   "nbconvert_exporter": "python",
   "pygments_lexer": "ipython3",
   "version": "3.8.19"
  }
 },
 "nbformat": 4,
 "nbformat_minor": 5
}
