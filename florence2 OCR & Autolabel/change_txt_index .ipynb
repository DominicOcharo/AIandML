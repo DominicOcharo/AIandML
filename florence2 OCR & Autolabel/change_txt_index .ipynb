{
 "cells": [
  {
   "cell_type": "code",
   "execution_count": 5,
   "id": "867ded42-c9a9-4705-98eb-04f22af99632",
   "metadata": {},
   "outputs": [
    {
     "name": "stdout",
     "output_type": "stream",
     "text": [
      "Replaced phrases in 123451234frame_0.txt\n",
      "Replaced phrases in 123451234frame_120.txt\n",
      "Replaced phrases in 123451234frame_150.txt\n",
      "Replaced phrases in 123451234frame_180.txt\n",
      "Replaced phrases in 123451234frame_210.txt\n",
      "Replaced phrases in 123451234frame_240.txt\n",
      "Replaced phrases in 123451234frame_270.txt\n",
      "Replaced phrases in 123451234frame_30.txt\n",
      "Replaced phrases in 123451234frame_300.txt\n",
      "Replaced phrases in 123451234frame_330.txt\n",
      "Replaced phrases in 123451234frame_360.txt\n",
      "Replaced phrases in 123451234frame_390.txt\n",
      "Replaced phrases in 123451234frame_60.txt\n",
      "Replaced phrases in 123451234frame_90.txt\n",
      "Replaced phrases in 12345frame_0.txt\n",
      "Replaced phrases in 12345frame_120.txt\n",
      "Replaced phrases in 12345frame_150.txt\n",
      "Replaced phrases in 12345frame_180.txt\n",
      "Replaced phrases in 12345frame_210.txt\n",
      "Replaced phrases in 12345frame_240.txt\n",
      "Replaced phrases in 12345frame_270.txt\n",
      "Replaced phrases in 12345frame_30.txt\n",
      "Replaced phrases in 12345frame_300.txt\n",
      "Replaced phrases in 12345frame_330.txt\n",
      "Replaced phrases in 12345frame_360.txt\n",
      "Replaced phrases in 12345frame_390.txt\n",
      "Replaced phrases in 12345frame_420.txt\n",
      "Replaced phrases in 12345frame_450.txt\n",
      "Replaced phrases in 12345frame_480.txt\n",
      "Replaced phrases in 12345frame_510.txt\n",
      "Replaced phrases in 12345frame_540.txt\n",
      "Replaced phrases in 12345frame_570.txt\n",
      "Replaced phrases in 12345frame_60.txt\n",
      "Replaced phrases in 12345frame_600.txt\n",
      "Replaced phrases in 12345frame_630.txt\n",
      "Replaced phrases in 12345frame_660.txt\n",
      "Replaced phrases in 12345frame_690.txt\n",
      "Replaced phrases in 12345frame_90.txt\n"
     ]
    }
   ],
   "source": [
    "import os\n",
    "import re\n",
    "\n",
    "# Define the mapping of phrases to numeric identifiers\n",
    "phrase_map = {\n",
    "    'person': '0',\n",
    "    'safety - boots': '1'\n",
    "}\n",
    "\n",
    "# Function to replace phrases in a single file\n",
    "def replace_phrases_in_file(file_path):\n",
    "    with open(file_path, 'r', encoding='utf-8') as file:\n",
    "        content = file.read()\n",
    "\n",
    "    # Iterate through each phrase in the map and replace it\n",
    "    for phrase, num in phrase_map.items():\n",
    "        content = re.sub(r'\\b{}\\b'.format(re.escape(phrase)), num, content)\n",
    "\n",
    "    # Write the modified content back to the file\n",
    "    with open(file_path, 'w', encoding='utf-8') as file:\n",
    "        file.write(content)\n",
    "\n",
    "# Function to process all text files in a directory\n",
    "def process_files_in_directory(directory):\n",
    "    for filename in os.listdir(directory):\n",
    "        if filename.endswith('.txt'):\n",
    "            file_path = os.path.join(directory, filename)\n",
    "            replace_phrases_in_file(file_path)\n",
    "            print(f'Replaced phrases in {filename}')\n",
    "\n",
    "# Replace phrases in all text files in the specified directory\n",
    "directory_path = r'C:\\Users\\Admin\\Downloads\\labels3-20240923T104322Z-001\\labels3'\n",
    "process_files_in_directory(directory_path)\n"
   ]
  },
  {
   "cell_type": "code",
   "execution_count": null,
   "id": "69462645-4bc9-4461-8a1b-e0432a27c2ff",
   "metadata": {},
   "outputs": [],
   "source": []
  }
 ],
 "metadata": {
  "kernelspec": {
   "display_name": "Python 3 (ipykernel)",
   "language": "python",
   "name": "python3"
  },
  "language_info": {
   "codemirror_mode": {
    "name": "ipython",
    "version": 3
   },
   "file_extension": ".py",
   "mimetype": "text/x-python",
   "name": "python",
   "nbconvert_exporter": "python",
   "pygments_lexer": "ipython3",
   "version": "3.8.19"
  }
 },
 "nbformat": 4,
 "nbformat_minor": 5
}
